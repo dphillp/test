{
    "cells": [
        {
            "cell_type": "markdown",
            "metadata": {
                "collapsed": true
            },
            "source": "# My Jupyter Notebook on IBM Watson Studio"
        },
        {
            "cell_type": "markdown",
            "metadata": {},
            "source": "**Dan Phillip**\n\nData Analyst"
        },
        {
            "cell_type": "markdown",
            "metadata": {},
            "source": "*I am interested in data science because I like to work with data in general, and have curiosity how it works when try to use ML to predict next values or new records status.*"
        },
        {
            "cell_type": "markdown",
            "metadata": {},
            "source": "### My code is suppose to do a simple sum with two values"
        },
        {
            "cell_type": "code",
            "execution_count": 1,
            "metadata": {},
            "outputs": [
                {
                    "data": {
                        "text/plain": "2"
                    },
                    "execution_count": 1,
                    "metadata": {},
                    "output_type": "execute_result"
                }
            ],
            "source": "1+1"
        },
        {
            "attachments": {
                "image-2.png": {
                    "image/png": "[encoded data removed]"
                }
            },
            "cell_type": "markdown",
            "metadata": {},
            "source": "* Create a notebook\n* Insert markdown\n* Insert a code\n* Public\n* See my notebook in github https://github.com/dphillp/test\n\n![image-2.png](attachment:image-2.png)"
        },
        {
            "cell_type": "code",
            "execution_count": null,
            "metadata": {},
            "outputs": [],
            "source": ""
        }
    ],
    "metadata": {
        "kernelspec": {
            "display_name": "Python 3.10",
            "language": "python",
            "name": "python3"
        },
        "language_info": {
            "codemirror_mode": {
                "name": "ipython",
                "version": 3
            },
            "file_extension": ".py",
            "mimetype": "text/x-python",
            "name": "python",
            "nbconvert_exporter": "python",
            "pygments_lexer": "ipython3",
            "version": "3.10.6"
        }
    },
    "nbformat": 4,
    "nbformat_minor": 1
}